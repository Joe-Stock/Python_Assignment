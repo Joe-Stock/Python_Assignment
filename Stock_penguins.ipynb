{
 "cells": [
  {
   "cell_type": "code",
   "execution_count": 1,
   "metadata": {
    "collapsed": true
   },
   "outputs": [],
   "source": [
    "from Bio import SeqIO\n",
    "from Bio.Data import CodonTable\n",
    "from Bio.Seq import Seq\n",
    "import pandas as pd"
   ]
  },
  {
   "cell_type": "code",
   "execution_count": 2,
   "metadata": {
    "collapsed": true
   },
   "outputs": [],
   "source": [
    "def get_sequences_from_file(fasta_fn):\n",
    "    sequence_data_dict = {}\n",
    "    for record in SeqIO.parse(fasta_fn, \"fasta\"):\n",
    "        description = record.description.split()\n",
    "        species_name = description[1] + \" \" + description[2]\n",
    "        sequence_data_dict[species_name] = record.seq\n",
    "    return(sequence_data_dict)"
   ]
  },
  {
   "cell_type": "code",
   "execution_count": 3,
   "metadata": {},
   "outputs": [],
   "source": [
    "#Obtained from Stack Overflow at website https://stackoverflow.com/questions/19521905/translation-dna-to-protein\n",
    "#Modified to run within the confines of the data we are working on.\n",
    "\n",
    "from itertools import takewhile\n",
    "\n",
    "def translate_function(sequence, mito_table = CodonTable.unambiguous_dna_by_name[\"Vertebrate Mitochondrial\"], stop_codons = ('TAA', 'TAG', 'AGA', 'AGG')):\n",
    "    start = sequence.find('ATG')\n",
    "    \n",
    "    trimmed_sequence = sequence[start:]\n",
    "    \n",
    "    codons = [trimmed_sequence[i:i+3] for i in range(0, len(trimmed_sequence), 3)]\n",
    "   \n",
    "    coding_sequence = takewhile(lambda x: x not in stop_codons and len(x) == 3, codons)\n",
    "    \n",
    "    protein_sequence = ''.join([mito_table.forward_table[codon] for codon in coding_sequence])\n",
    "    \n",
    "    return \"{0}_\".format(protein_sequence)"
   ]
  },
  {
   "cell_type": "code",
   "execution_count": null,
   "metadata": {
    "collapsed": true
   },
   "outputs": [],
   "source": []
  }
 ],
 "metadata": {
  "kernelspec": {
   "display_name": "Python 3",
   "language": "python",
   "name": "python3"
  },
  "language_info": {
   "codemirror_mode": {
    "name": "ipython",
    "version": 3
   },
   "file_extension": ".py",
   "mimetype": "text/x-python",
   "name": "python",
   "nbconvert_exporter": "python",
   "pygments_lexer": "ipython3",
   "version": "3.6.3"
  }
 },
 "nbformat": 4,
 "nbformat_minor": 2
}
